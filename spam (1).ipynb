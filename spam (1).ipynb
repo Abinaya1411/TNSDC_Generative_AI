{
 "cells": [
  {
   "cell_type": "code",
   "execution_count": 2,
   "id": "277f5c3b-e08e-4136-b2c1-932575def9e3",
   "metadata": {},
   "outputs": [
    {
     "name": "stdout",
     "output_type": "stream",
     "text": [
      "Accuracy: 0.0\n",
      "This email is not spam.\n"
     ]
    }
   ],
   "source": [
    "# Importing necessary libraries\n",
    "from sklearn.feature_extraction.text import CountVectorizer\n",
    "from sklearn.model_selection import train_test_split\n",
    "from sklearn.tree import DecisionTreeClassifier\n",
    "from sklearn.metrics import accuracy_score\n",
    "import pandas as pd\n",
    "\n",
    "# Sample email data (features: emails, labels: 0 for ham, 1 for spam)\n",
    "emails = [\n",
    "    \"Hey, how are you?\",\n",
    "    \"Congratulations! You've won a free trip to Hawaii. Click here to claim your prize.\",\n",
    "    \"Reminder: Meeting tomorrow at 10 AM.\",\n",
    "    \"Get a discount on our latest products. Limited time offer!\",\n",
    "    \"URGENT: Your account has been compromised. Please reset your password immediately.\"\n",
    "]\n",
    "\n",
    "labels = [0, 1, 0, 1, 1]\n",
    "\n",
    "# Converting text data into numerical features using CountVectorizer\n",
    "vectorizer = CountVectorizer()\n",
    "X = vectorizer.fit_transform(emails)\n",
    "\n",
    "# Splitting data into training and testing sets\n",
    "X_train, X_test, y_train, y_test = train_test_split(X, labels, test_size=0.2, random_state=42)\n",
    "\n",
    "# Creating and training the decision tree classifier\n",
    "clf = DecisionTreeClassifier()\n",
    "clf.fit(X_train, y_train)\n",
    "\n",
    "# Making predictions on the testing set\n",
    "predictions = clf.predict(X_test)\n",
    "\n",
    "# Calculating the accuracy of the model\n",
    "accuracy = accuracy_score(y_test, predictions)\n",
    "print(\"Accuracy:\", accuracy)\n",
    "\n",
    "# Example of predicting a new email\n",
    "new_email = [\"Special offer! Buy one get one free.\"]\n",
    "new_email_vectorized = vectorizer.transform(new_email)\n",
    "prediction = clf.predict(new_email_vectorized)\n",
    "if prediction[0] == 0:\n",
    "    print(\"This email is not spam.\")\n",
    "else:\n",
    "    print(\"This email is spam.\")\n"
   ]
  },
  {
   "cell_type": "code",
   "execution_count": null,
   "id": "d44ea2e5-3bf6-4ab1-85be-16969062bdc2",
   "metadata": {},
   "outputs": [],
   "source": []
  }
 ],
 "metadata": {
  "kernelspec": {
   "display_name": "Python 3 (ipykernel)",
   "language": "python",
   "name": "python3"
  },
  "language_info": {
   "codemirror_mode": {
    "name": "ipython",
    "version": 3
   },
   "file_extension": ".py",
   "mimetype": "text/x-python",
   "name": "python",
   "nbconvert_exporter": "python",
   "pygments_lexer": "ipython3",
   "version": "3.11.7"
  }
 },
 "nbformat": 4,
 "nbformat_minor": 5
}
